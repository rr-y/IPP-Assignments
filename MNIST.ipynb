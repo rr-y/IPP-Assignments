{
  "nbformat": 4,
  "nbformat_minor": 0,
  "metadata": {
    "colab": {
      "name": "MNIST.ipynb",
      "version": "0.3.2",
      "provenance": [],
      "include_colab_link": true
    },
    "kernelspec": {
      "name": "python3",
      "display_name": "Python 3"
    },
    "accelerator": "GPU"
  },
  "cells": [
    {
      "cell_type": "markdown",
      "metadata": {
        "id": "view-in-github",
        "colab_type": "text"
      },
      "source": [
        "<a href=\"https://colab.research.google.com/github/rr-y/IPP-Assignments/blob/master/MNIST.ipynb\" target=\"_parent\"><img src=\"https://colab.research.google.com/assets/colab-badge.svg\" alt=\"Open In Colab\"/></a>"
      ]
    },
    {
      "metadata": {
        "id": "T646MKOM8w_6",
        "colab_type": "code",
        "colab": {}
      },
      "cell_type": "code",
      "source": [
        "\n",
        "import tensorflow as tf"
      ],
      "execution_count": 0,
      "outputs": []
    },
    {
      "metadata": {
        "id": "UJLVSIpFBzBU",
        "colab_type": "code",
        "colab": {}
      },
      "cell_type": "code",
      "source": [
        "from tensorflow.examples.tutorials.mnist import input_data"
      ],
      "execution_count": 0,
      "outputs": []
    },
    {
      "metadata": {
        "id": "eGrxeZGsB4hB",
        "colab_type": "code",
        "colab": {
          "base_uri": "https://localhost:8080/",
          "height": 524
        },
        "outputId": "a8794cbe-95f7-44d3-b77a-c8dfb8d68d82"
      },
      "cell_type": "code",
      "source": [
        "mnist = input_data.read_data_sets(\"MNIST_data/\",one_hot=True)\n"
      ],
      "execution_count": 3,
      "outputs": [
        {
          "output_type": "stream",
          "text": [
            "WARNING:tensorflow:From <ipython-input-3-758d29429358>:1: read_data_sets (from tensorflow.contrib.learn.python.learn.datasets.mnist) is deprecated and will be removed in a future version.\n",
            "Instructions for updating:\n",
            "Please use alternatives such as official/mnist/dataset.py from tensorflow/models.\n",
            "WARNING:tensorflow:From /usr/local/lib/python3.6/dist-packages/tensorflow/contrib/learn/python/learn/datasets/mnist.py:260: maybe_download (from tensorflow.contrib.learn.python.learn.datasets.base) is deprecated and will be removed in a future version.\n",
            "Instructions for updating:\n",
            "Please write your own downloading logic.\n",
            "WARNING:tensorflow:From /usr/local/lib/python3.6/dist-packages/tensorflow/contrib/learn/python/learn/datasets/base.py:252: _internal_retry.<locals>.wrap.<locals>.wrapped_fn (from tensorflow.contrib.learn.python.learn.datasets.base) is deprecated and will be removed in a future version.\n",
            "Instructions for updating:\n",
            "Please use urllib or similar directly.\n",
            "Successfully downloaded train-images-idx3-ubyte.gz 9912422 bytes.\n",
            "WARNING:tensorflow:From /usr/local/lib/python3.6/dist-packages/tensorflow/contrib/learn/python/learn/datasets/mnist.py:262: extract_images (from tensorflow.contrib.learn.python.learn.datasets.mnist) is deprecated and will be removed in a future version.\n",
            "Instructions for updating:\n",
            "Please use tf.data to implement this functionality.\n",
            "Extracting MNIST_data/train-images-idx3-ubyte.gz\n",
            "Successfully downloaded train-labels-idx1-ubyte.gz 28881 bytes.\n",
            "WARNING:tensorflow:From /usr/local/lib/python3.6/dist-packages/tensorflow/contrib/learn/python/learn/datasets/mnist.py:267: extract_labels (from tensorflow.contrib.learn.python.learn.datasets.mnist) is deprecated and will be removed in a future version.\n",
            "Instructions for updating:\n",
            "Please use tf.data to implement this functionality.\n",
            "Extracting MNIST_data/train-labels-idx1-ubyte.gz\n",
            "WARNING:tensorflow:From /usr/local/lib/python3.6/dist-packages/tensorflow/contrib/learn/python/learn/datasets/mnist.py:110: dense_to_one_hot (from tensorflow.contrib.learn.python.learn.datasets.mnist) is deprecated and will be removed in a future version.\n",
            "Instructions for updating:\n",
            "Please use tf.one_hot on tensors.\n",
            "Successfully downloaded t10k-images-idx3-ubyte.gz 1648877 bytes.\n",
            "Extracting MNIST_data/t10k-images-idx3-ubyte.gz\n",
            "Successfully downloaded t10k-labels-idx1-ubyte.gz 4542 bytes.\n",
            "Extracting MNIST_data/t10k-labels-idx1-ubyte.gz\n",
            "WARNING:tensorflow:From /usr/local/lib/python3.6/dist-packages/tensorflow/contrib/learn/python/learn/datasets/mnist.py:290: DataSet.__init__ (from tensorflow.contrib.learn.python.learn.datasets.mnist) is deprecated and will be removed in a future version.\n",
            "Instructions for updating:\n",
            "Please use alternatives such as official/mnist/dataset.py from tensorflow/models.\n"
          ],
          "name": "stdout"
        }
      ]
    },
    {
      "metadata": {
        "id": "1qCrp3StB-mH",
        "colab_type": "code",
        "colab": {}
      },
      "cell_type": "code",
      "source": [
        "def init_weights(shape):\n",
        "    init_random_dist = tf.truncated_normal(shape, stddev=0.1)\n",
        "    return tf.Variable(init_random_dist)\n"
      ],
      "execution_count": 0,
      "outputs": []
    },
    {
      "metadata": {
        "id": "tavjB-oCCIef",
        "colab_type": "code",
        "colab": {}
      },
      "cell_type": "code",
      "source": [
        "def init_bias(shape):\n",
        "    init_bias_vals = tf.constant(0.1, shape=shape)\n",
        "    return tf.Variable(init_bias_vals)\n"
      ],
      "execution_count": 0,
      "outputs": []
    },
    {
      "metadata": {
        "id": "LtRQNR03CNad",
        "colab_type": "code",
        "colab": {}
      },
      "cell_type": "code",
      "source": [
        "def conv2d(x, W):\n",
        "    return tf.nn.conv2d(x, W, strides=[1, 1, 1, 1], padding='SAME')\n"
      ],
      "execution_count": 0,
      "outputs": []
    },
    {
      "metadata": {
        "id": "I6uWgg5_CQ0R",
        "colab_type": "code",
        "colab": {}
      },
      "cell_type": "code",
      "source": [
        "def max_pool_2by2(x):\n",
        "    return tf.nn.max_pool(x, ksize=[1, 2, 2, 1],\n",
        "                          strides=[1, 2, 2, 1], padding='SAME')"
      ],
      "execution_count": 0,
      "outputs": []
    },
    {
      "metadata": {
        "id": "wk5KXc4PCUOs",
        "colab_type": "code",
        "colab": {}
      },
      "cell_type": "code",
      "source": [
        "def convolutional_layer(input_x, shape):\n",
        "    W = init_weights(shape)\n",
        "    b = init_bias([shape[3]])\n",
        "    return tf.nn.relu(conv2d(input_x, W) + b)"
      ],
      "execution_count": 0,
      "outputs": []
    },
    {
      "metadata": {
        "id": "PsAUPw0PCX5a",
        "colab_type": "code",
        "colab": {}
      },
      "cell_type": "code",
      "source": [
        "def normal_full_layer(input_layer, size):\n",
        "    input_size = int(input_layer.get_shape()[1])\n",
        "    W = init_weights([input_size, size])\n",
        "    b = init_bias([size])\n",
        "    return tf.matmul(input_layer, W) + b\n"
      ],
      "execution_count": 0,
      "outputs": []
    },
    {
      "metadata": {
        "id": "ibYj2eeTCa9w",
        "colab_type": "code",
        "colab": {}
      },
      "cell_type": "code",
      "source": [
        "x = tf.placeholder(tf.float32,shape=[None,784])\n"
      ],
      "execution_count": 0,
      "outputs": []
    },
    {
      "metadata": {
        "id": "n9jbsfDVCe06",
        "colab_type": "code",
        "colab": {}
      },
      "cell_type": "code",
      "source": [
        "y_true = tf.placeholder(tf.float32,shape=[None,10])\n"
      ],
      "execution_count": 0,
      "outputs": []
    },
    {
      "metadata": {
        "id": "EwkQc72vChSY",
        "colab_type": "code",
        "colab": {}
      },
      "cell_type": "code",
      "source": [
        "x_image = tf.reshape(x,[-1,28,28,1])\n"
      ],
      "execution_count": 0,
      "outputs": []
    },
    {
      "metadata": {
        "id": "mw5dzoV3Clga",
        "colab_type": "code",
        "colab": {}
      },
      "cell_type": "code",
      "source": [
        "# Using a 6by6 filter here, used 5by5 in video, you can play around with the filter size\n",
        "# You can change the 32 output, that essentially represents the amount of filters used\n",
        "# You need to pass in 32 to the next input though, the 1 comes from the original input of \n",
        "# a single image.\n",
        "convo_1 = convolutional_layer(x_image,shape=[6,6,1,32])\n",
        "convo_1_pooling = max_pool_2by2(convo_1)"
      ],
      "execution_count": 0,
      "outputs": []
    },
    {
      "metadata": {
        "id": "ROpPKEN_Coye",
        "colab_type": "code",
        "colab": {}
      },
      "cell_type": "code",
      "source": [
        "# Using a 6by6 filter here, used 5by5 in video, you can play around with the filter size\n",
        "# You can actually change the 64 output if you want, you can think of that as a representation\n",
        "# of the amount of 6by6 filters used.\n",
        "convo_2 = convolutional_layer(convo_1_pooling,shape=[6,6,32,64])\n",
        "convo_2_pooling = max_pool_2by2(convo_2)"
      ],
      "execution_count": 0,
      "outputs": []
    },
    {
      "metadata": {
        "id": "Lv9WOu-iCr0I",
        "colab_type": "code",
        "colab": {}
      },
      "cell_type": "code",
      "source": [
        "# Why 7 by 7 image? Because we did 2 pooling layers, so (28/2)/2 = 7\n",
        "# 64 then just comes from the output of the previous Convolution\n",
        "convo_2_flat = tf.reshape(convo_2_pooling,[-1,7*7*64])\n",
        "full_layer_one = tf.nn.relu(normal_full_layer(convo_2_flat,1024))\n"
      ],
      "execution_count": 0,
      "outputs": []
    },
    {
      "metadata": {
        "id": "NUDZSeg3CupU",
        "colab_type": "code",
        "colab": {}
      },
      "cell_type": "code",
      "source": [
        "# NOTE THE PLACEHOLDER HERE!\n",
        "hold_prob = tf.placeholder(tf.float32)\n",
        "full_one_dropout = tf.nn.dropout(full_layer_one,keep_prob=hold_prob)"
      ],
      "execution_count": 0,
      "outputs": []
    },
    {
      "metadata": {
        "id": "TnsTfLDaCxLT",
        "colab_type": "code",
        "colab": {}
      },
      "cell_type": "code",
      "source": [
        "y_pred = normal_full_layer(full_one_dropout,10)\n"
      ],
      "execution_count": 0,
      "outputs": []
    },
    {
      "metadata": {
        "id": "4U3wF4BSCzaP",
        "colab_type": "code",
        "colab": {
          "base_uri": "https://localhost:8080/",
          "height": 171
        },
        "outputId": "202f83df-bfdf-48a1-a309-0df9346f3840"
      },
      "cell_type": "code",
      "source": [
        "cross_entropy = tf.reduce_mean(tf.nn.softmax_cross_entropy_with_logits(labels=y_true,logits=y_pred))\n"
      ],
      "execution_count": 18,
      "outputs": [
        {
          "output_type": "stream",
          "text": [
            "WARNING:tensorflow:From <ipython-input-18-e0c07892321c>:1: softmax_cross_entropy_with_logits (from tensorflow.python.ops.nn_ops) is deprecated and will be removed in a future version.\n",
            "Instructions for updating:\n",
            "\n",
            "Future major versions of TensorFlow will allow gradients to flow\n",
            "into the labels input on backprop by default.\n",
            "\n",
            "See `tf.nn.softmax_cross_entropy_with_logits_v2`.\n",
            "\n"
          ],
          "name": "stdout"
        }
      ]
    },
    {
      "metadata": {
        "id": "Q6H5Y971C1yt",
        "colab_type": "code",
        "colab": {}
      },
      "cell_type": "code",
      "source": [
        "optimizer = tf.train.AdamOptimizer(learning_rate=0.0001)\n",
        "train = optimizer.minimize(cross_entropy)\n"
      ],
      "execution_count": 0,
      "outputs": []
    },
    {
      "metadata": {
        "id": "-FQVUclJC5B4",
        "colab_type": "code",
        "colab": {}
      },
      "cell_type": "code",
      "source": [
        "init = tf.global_variables_initializer()\n"
      ],
      "execution_count": 0,
      "outputs": []
    },
    {
      "metadata": {
        "id": "VXqWxCIlC7r3",
        "colab_type": "code",
        "colab": {
          "base_uri": "https://localhost:8080/",
          "height": 3377
        },
        "outputId": "07a74be2-1d6e-4db4-f4eb-93faad108248"
      },
      "cell_type": "code",
      "source": [
        "steps = 5000\n",
        "\n",
        "with tf.Session() as sess:\n",
        "    \n",
        "    sess.run(init)\n",
        "    \n",
        "    for i in range(steps):\n",
        "        \n",
        "        batch_x , batch_y = mnist.train.next_batch(50)\n",
        "        \n",
        "        sess.run(train,feed_dict={x:batch_x,y_true:batch_y,hold_prob:0.5})\n",
        "        \n",
        "        # PRINT OUT A MESSAGE EVERY 100 STEPS\n",
        "        if i%100 == 0:\n",
        "            \n",
        "            print('Currently on step {}'.format(i))\n",
        "            print('Accuracy is:',end=\" \")\n",
        "            # Test the Train Model\n",
        "            matches = tf.equal(tf.argmax(y_pred,1),tf.argmax(y_true,1))\n",
        "\n",
        "            acc = tf.reduce_mean(tf.cast(matches,tf.float32))\n",
        "            print(sess.run(acc,feed_dict={x:mnist.test.images,y_true:mnist.test.labels,hold_prob:1.0}))\n",
        "            print('\\n')\n",
        "\n",
        "\n",
        " "
      ],
      "execution_count": 25,
      "outputs": [
        {
          "output_type": "stream",
          "text": [
            "Currently on step 0\n",
            "Accuracy is: 0.1179\n",
            "\n",
            "\n",
            "Currently on step 100\n",
            "Accuracy is: 0.8571\n",
            "\n",
            "\n",
            "Currently on step 200\n",
            "Accuracy is: 0.9014\n",
            "\n",
            "\n",
            "Currently on step 300\n",
            "Accuracy is: 0.9257\n",
            "\n",
            "\n",
            "Currently on step 400\n",
            "Accuracy is: 0.9372\n",
            "\n",
            "\n",
            "Currently on step 500\n",
            "Accuracy is: 0.9459\n",
            "\n",
            "\n",
            "Currently on step 600\n",
            "Accuracy is: 0.9515\n",
            "\n",
            "\n",
            "Currently on step 700\n",
            "Accuracy is: 0.953\n",
            "\n",
            "\n",
            "Currently on step 800\n",
            "Accuracy is: 0.9554\n",
            "\n",
            "\n",
            "Currently on step 900\n",
            "Accuracy is: 0.9588\n",
            "\n",
            "\n",
            "Currently on step 1000\n",
            "Accuracy is: 0.9621\n",
            "\n",
            "\n",
            "Currently on step 1100\n",
            "Accuracy is: 0.9634\n",
            "\n",
            "\n",
            "Currently on step 1200\n",
            "Accuracy is: 0.9673\n",
            "\n",
            "\n",
            "Currently on step 1300\n",
            "Accuracy is: 0.965\n",
            "\n",
            "\n",
            "Currently on step 1400\n",
            "Accuracy is: 0.9708\n",
            "\n",
            "\n",
            "Currently on step 1500\n",
            "Accuracy is: 0.9703\n",
            "\n",
            "\n",
            "Currently on step 1600\n",
            "Accuracy is: 0.9709\n",
            "\n",
            "\n",
            "Currently on step 1700\n",
            "Accuracy is: 0.9742\n",
            "\n",
            "\n",
            "Currently on step 1800\n",
            "Accuracy is: 0.9755\n",
            "\n",
            "\n",
            "Currently on step 1900\n",
            "Accuracy is: 0.9756\n",
            "\n",
            "\n",
            "Currently on step 2000\n",
            "Accuracy is: 0.9762\n",
            "\n",
            "\n",
            "Currently on step 2100\n",
            "Accuracy is: 0.9775\n",
            "\n",
            "\n",
            "Currently on step 2200\n",
            "Accuracy is: 0.9754\n",
            "\n",
            "\n",
            "Currently on step 2300\n",
            "Accuracy is: 0.9769\n",
            "\n",
            "\n",
            "Currently on step 2400\n",
            "Accuracy is: 0.9783\n",
            "\n",
            "\n",
            "Currently on step 2500\n",
            "Accuracy is: 0.976\n",
            "\n",
            "\n",
            "Currently on step 2600\n",
            "Accuracy is: 0.9784\n",
            "\n",
            "\n",
            "Currently on step 2700\n",
            "Accuracy is: 0.9803\n",
            "\n",
            "\n",
            "Currently on step 2800\n",
            "Accuracy is: 0.9784\n",
            "\n",
            "\n",
            "Currently on step 2900\n",
            "Accuracy is: 0.9816\n",
            "\n",
            "\n",
            "Currently on step 3000\n",
            "Accuracy is: 0.9829\n",
            "\n",
            "\n",
            "Currently on step 3100\n",
            "Accuracy is: 0.9807\n",
            "\n",
            "\n",
            "Currently on step 3200\n",
            "Accuracy is: 0.9809\n",
            "\n",
            "\n",
            "Currently on step 3300\n",
            "Accuracy is: 0.9815\n",
            "\n",
            "\n",
            "Currently on step 3400\n",
            "Accuracy is: 0.9833\n",
            "\n",
            "\n",
            "Currently on step 3500\n",
            "Accuracy is: 0.9845\n",
            "\n",
            "\n",
            "Currently on step 3600\n",
            "Accuracy is: 0.9831\n",
            "\n",
            "\n",
            "Currently on step 3700\n",
            "Accuracy is: 0.9857\n",
            "\n",
            "\n",
            "Currently on step 3800\n",
            "Accuracy is: 0.9845\n",
            "\n",
            "\n",
            "Currently on step 3900\n",
            "Accuracy is: 0.9841\n",
            "\n",
            "\n",
            "Currently on step 4000\n",
            "Accuracy is: 0.9829\n",
            "\n",
            "\n",
            "Currently on step 4100\n",
            "Accuracy is: 0.9863\n",
            "\n",
            "\n",
            "Currently on step 4200\n",
            "Accuracy is: 0.9868\n",
            "\n",
            "\n",
            "Currently on step 4300\n",
            "Accuracy is: 0.9826\n",
            "\n",
            "\n",
            "Currently on step 4400\n",
            "Accuracy is: 0.9858\n",
            "\n",
            "\n",
            "Currently on step 4500\n",
            "Accuracy is: 0.9853\n",
            "\n",
            "\n",
            "Currently on step 4600\n",
            "Accuracy is: 0.985\n",
            "\n",
            "\n",
            "Currently on step 4700\n",
            "Accuracy is: 0.9849\n",
            "\n",
            "\n",
            "Currently on step 4800\n",
            "Accuracy is: 0.9873\n",
            "\n",
            "\n",
            "Currently on step 4900\n",
            "Accuracy is: 0.9844\n",
            "\n",
            "\n"
          ],
          "name": "stdout"
        }
      ]
    },
    {
      "metadata": {
        "id": "mqPaHIv-DAAT",
        "colab_type": "code",
        "colab": {}
      },
      "cell_type": "code",
      "source": [
        "import pandas"
      ],
      "execution_count": 0,
      "outputs": []
    },
    {
      "metadata": {
        "id": "PPfve2brEJCC",
        "colab_type": "code",
        "colab": {
          "base_uri": "https://localhost:8080/",
          "height": 54
        },
        "outputId": "4f3ed7f5-c191-49e1-aab4-52beee650f8c"
      },
      "cell_type": "code",
      "source": [
        "mnist"
      ],
      "execution_count": 31,
      "outputs": [
        {
          "output_type": "execute_result",
          "data": {
            "text/plain": [
              "Datasets(train=<tensorflow.contrib.learn.python.learn.datasets.mnist.DataSet object at 0x7f4201463ac8>, validation=<tensorflow.contrib.learn.python.learn.datasets.mnist.DataSet object at 0x7f42454876a0>, test=<tensorflow.contrib.learn.python.learn.datasets.mnist.DataSet object at 0x7f4245487400>)"
            ]
          },
          "metadata": {
            "tags": []
          },
          "execution_count": 31
        }
      ]
    },
    {
      "metadata": {
        "id": "d7tzTWTLFuAw",
        "colab_type": "code",
        "colab": {
          "base_uri": "https://localhost:8080/",
          "height": 34
        },
        "outputId": "58ff9a1d-3a34-4ef8-e376-64a0488f6db1"
      },
      "cell_type": "code",
      "source": [
        "pwd"
      ],
      "execution_count": 32,
      "outputs": [
        {
          "output_type": "execute_result",
          "data": {
            "text/plain": [
              "'/content'"
            ]
          },
          "metadata": {
            "tags": []
          },
          "execution_count": 32
        }
      ]
    },
    {
      "metadata": {
        "id": "gKV2-lz2GoUt",
        "colab_type": "code",
        "colab": {
          "base_uri": "https://localhost:8080/",
          "height": 34
        },
        "outputId": "593dd218-4b4b-4e5a-ac0a-b68dd3887465"
      },
      "cell_type": "code",
      "source": [
        "ls"
      ],
      "execution_count": 33,
      "outputs": [
        {
          "output_type": "stream",
          "text": [
            "\u001b[0m\u001b[01;34mMNIST_data\u001b[0m/  \u001b[01;34msample_data\u001b[0m/\n"
          ],
          "name": "stdout"
        }
      ]
    },
    {
      "metadata": {
        "id": "94MUGOsAG2Md",
        "colab_type": "code",
        "colab": {}
      },
      "cell_type": "code",
      "source": [
        ""
      ],
      "execution_count": 0,
      "outputs": []
    }
  ]
}